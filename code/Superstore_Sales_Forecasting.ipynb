{
 "cells": [
  {
   "cell_type": "code",
   "execution_count": 1,
   "id": "ce71edce",
   "metadata": {},
   "outputs": [],
   "source": [
    "import numpy as np\n",
    "import pandas as pd\n",
    "import datetime\n",
    "\n",
    "# visualization\n",
    "from matplotlib import pyplot as plt\n",
    "import seaborn as sns\n",
    "sns.set_style(\"whitegrid\")\n",
    "plt.rcParams[\"figure.figsize\"] = (12,4)\n",
    "# plt.rcParams['figure.dpi'] = 150\n",
    "\n",
    "#\n",
    "colors = ['#F0D290','#DE834D','#A3423C','#781D42']\n",
    "colors2 = ['#f0d290','#e9c083','#e2af77','#d99d6d','#d08c64',\n",
    "          '#c67b5d','#bc6b56','#b05a51','#a34b4d','#963b49',\n",
    "          '#872c45','#781d42']"
   ]
  },
  {
   "cell_type": "markdown",
   "id": "fe5ecebc",
   "metadata": {},
   "source": [
    "## Data\n",
    "[dataset source](https://community.tableau.com/s/question/0D54T00000CWeX8SAL/sample-superstore-sales-excelxls)"
   ]
  },
  {
   "cell_type": "code",
   "execution_count": 2,
   "id": "03b7d09a",
   "metadata": {
    "scrolled": false
   },
   "outputs": [
    {
     "data": {
      "text/plain": [
       "(9994, 21)"
      ]
     },
     "execution_count": 2,
     "metadata": {},
     "output_type": "execute_result"
    }
   ],
   "source": [
    "# loading data & check dataset shape\n",
    "df = pd.read_excel('../datasets/Sample - Superstore.xls')\n",
    "df.shape"
   ]
  },
  {
   "cell_type": "markdown",
   "id": "9c9a3451",
   "metadata": {},
   "source": [
    "# 1. Data Exploration"
   ]
  },
  {
   "cell_type": "code",
   "execution_count": 3,
   "id": "c3c062a9",
   "metadata": {
    "scrolled": false
   },
   "outputs": [
    {
     "data": {
      "text/plain": [
       "Row ID                    int64\n",
       "Order ID                 object\n",
       "Order Date       datetime64[ns]\n",
       "Ship Date        datetime64[ns]\n",
       "Ship Mode                object\n",
       "Customer ID              object\n",
       "Customer Name            object\n",
       "Segment                  object\n",
       "Country                  object\n",
       "City                     object\n",
       "State                    object\n",
       "Postal Code               int64\n",
       "Region                   object\n",
       "Product ID               object\n",
       "Category                 object\n",
       "Sub-Category             object\n",
       "Product Name             object\n",
       "Sales                   float64\n",
       "Quantity                  int64\n",
       "Discount                float64\n",
       "Profit                  float64\n",
       "dtype: object"
      ]
     },
     "execution_count": 3,
     "metadata": {},
     "output_type": "execute_result"
    }
   ],
   "source": [
    "### verifying that each column has the appropriate data type\n",
    "df.dtypes"
   ]
  },
  {
   "cell_type": "markdown",
   "id": "8fcb5fea",
   "metadata": {},
   "source": [
    "#### correlation matrix"
   ]
  },
  {
   "cell_type": "code",
   "execution_count": 4,
   "id": "65233b3e",
   "metadata": {},
   "outputs": [],
   "source": [
    "# # Generate a mask for the upper triangle\n",
    "# mask = np.triu(np.ones_like(df.corr(), dtype=bool))\n",
    "\n",
    "# # plot correlation metric between all possible pairs of numeric variables the dataframe\n",
    "# sns.heatmap(df.corr(), mask=mask, annot=True, square=True);"
   ]
  },
  {
   "cell_type": "code",
   "execution_count": null,
   "id": "a025e371",
   "metadata": {},
   "outputs": [],
   "source": []
  },
  {
   "cell_type": "markdown",
   "id": "985fbe93",
   "metadata": {},
   "source": [
    "#### How much Furniture data represent out of the whole data? \n",
    "Answer : 21%"
   ]
  },
  {
   "cell_type": "code",
   "execution_count": 5,
   "id": "1c180217",
   "metadata": {},
   "outputs": [
    {
     "data": {
      "image/png": "[encoded data removed]",
      "text/plain": [
       "<Figure size 864x288 with 1 Axes>"
      ]
     },
     "metadata": {},
     "output_type": "display_data"
    }
   ],
   "source": [
    "data = df['Category'].value_counts()\n",
    "plt.title('Sales Categories')\n",
    "plt.pie(data, \n",
    "        labels=data.index,\n",
    "        colors=colors,\n",
    "        autopct='%.0f%%');"
   ]
  },
  {
   "cell_type": "markdown",
   "id": "b8782e3a",
   "metadata": {},
   "source": [
    "#### What are the subcategories of Furniture?\n",
    "Answer : <br>\n",
    "45% Furnishings <br>\n",
    "29% Chairs <br>\n",
    "15% Tables <br>\n",
    "11% Bookcases <br>"
   ]
  },
  {
   "cell_type": "code",
   "execution_count": 6,
   "id": "3dbd6b9c",
   "metadata": {},
   "outputs": [
    {
     "data": {
      "image/png": "[encoded data removed]",
      "text/plain": [
       "<Figure size 864x288 with 1 Axes>"
      ]
     },
     "metadata": {},
     "output_type": "display_data"
    }
   ],
   "source": [
    "data = df[df['Category'] == 'Furniture']['Sub-Category'].value_counts()\n",
    "plt.pie(data, \n",
    "        labels=data.index,\n",
    "        colors=colors,\n",
    "        autopct='%.0f%%');"
   ]
  },
  {
   "cell_type": "markdown",
   "id": "af078ab4",
   "metadata": {},
   "source": [
    "#### Since we are interested in Furniture category we will drop non-Furniture data"
   ]
  },
  {
   "cell_type": "code",
   "execution_count": 7,
   "id": "dfe2ce47",
   "metadata": {},
   "outputs": [
    {
     "data": {
      "text/plain": [
       "(2121, 22)"
      ]
     },
     "execution_count": 7,
     "metadata": {},
     "output_type": "execute_result"
    }
   ],
   "source": [
    "df = df[df['Category'] == 'Furniture'].reset_index()\n",
    "df.shape"
   ]
  },
  {
   "cell_type": "markdown",
   "id": "a2a89c68",
   "metadata": {},
   "source": [
    "#### Is there any missing values or duplicated rows ?\n",
    "Answer : No"
   ]
  },
  {
   "cell_type": "code",
   "execution_count": 8,
   "id": "3e80bbcc",
   "metadata": {},
   "outputs": [
    {
     "name": "stdout",
     "output_type": "stream",
     "text": [
      "Number of missing values is 0\n",
      "Number of duplicated rows is 0\n"
     ]
    }
   ],
   "source": [
    "print(f'Number of missing values is {df.isna().sum().sum()}\\nNumber of duplicated rows is {df.duplicated().sum()}')"
   ]
  },
  {
   "cell_type": "markdown",
   "id": "ac01fce5",
   "metadata": {},
   "source": [
    "#### Any wrong data in the Sales column ?\n",
    "Answer : No"
   ]
  },
  {
   "cell_type": "code",
   "execution_count": 9,
   "id": "c5a5822c",
   "metadata": {},
   "outputs": [
    {
     "name": "stdout",
     "output_type": "stream",
     "text": [
      "Number of transactions has Sales <= 0 is 0\n"
     ]
    }
   ],
   "source": [
    "print('Number of transactions has Sales <= 0 is ' + str(df[df['Sales'] <= 0].shape[0]))"
   ]
  },
  {
   "cell_type": "code",
   "execution_count": 10,
   "id": "6e80f22f",
   "metadata": {
    "scrolled": true
   },
   "outputs": [
    {
     "data": {
      "image/png": "[encoded data removed]",
      "text/plain": [
       "<Figure size 864x288 with 1 Axes>"
      ]
     },
     "metadata": {},
     "output_type": "display_data"
    }
   ],
   "source": [
    "sns.boxplot(data=df['Sales']);"
   ]
  },
  {
   "cell_type": "markdown",
   "id": "f0837be7",
   "metadata": {},
   "source": [
    "#### Any wrong data in the Profit column ?\n",
    "Answer : No; Having negative profit seems to be normal scinse the store put big discounts on some products."
   ]
  },
  {
   "cell_type": "code",
   "execution_count": 11,
   "id": "da29d741",
   "metadata": {},
   "outputs": [
    {
     "name": "stdout",
     "output_type": "stream",
     "text": [
      "Number of transactions has Sales <= 0 is 747\n"
     ]
    }
   ],
   "source": [
    "print('Number of transactions has Sales <= 0 is ' + str(df[df['Profit'] <= 0].shape[0]))"
   ]
  },
  {
   "cell_type": "code",
   "execution_count": 12,
   "id": "7364fc5a",
   "metadata": {},
   "outputs": [
    {
     "data": {
      "image/png": "[encoded data removed]",
      "text/plain": [
       "<Figure size 864x288 with 1 Axes>"
      ]
     },
     "metadata": {},
     "output_type": "display_data"
    }
   ],
   "source": [
    "sns.boxplot(data=df['Profit']);"
   ]
  },
  {
   "cell_type": "markdown",
   "id": "d97dcb01",
   "metadata": {},
   "source": [
    "#### Overall Sales vs Profit of each year"
   ]
  },
  {
   "cell_type": "code",
   "execution_count": 13,
   "id": "672a0d3a",
   "metadata": {},
   "outputs": [],
   "source": [
    "df['Year'] = df['Order Date'].dt.year\n",
    "df['Month'] = df['Order Date'].dt.month"
   ]
  },
  {
   "cell_type": "code",
   "execution_count": 14,
   "id": "4b5c659e",
   "metadata": {},
   "outputs": [
    {
     "data": {
      "image/png": "[encoded data removed]",
      "text/plain": [
       "<Figure size 421.125x360 with 1 Axes>"
      ]
     },
     "metadata": {},
     "output_type": "display_data"
    }
   ],
   "source": [
    "# calculate the Sales & Profit amounts of each Category\n",
    "data = df.groupby(['Year'])[['Sales', 'Profit']].sum().reset_index()\n",
    "data = pd.melt(data, id_vars='Year', var_name='Income', value_name='Value in Dollars')\n",
    "\n",
    "# plot\n",
    "sns.catplot(data=data, x='Year', y='Value in Dollars', hue='Income',  kind='bar', palette=colors);"
   ]
  },
  {
   "cell_type": "markdown",
   "id": "617c5e87",
   "metadata": {},
   "source": [
    "#### Is the Sales column take into consideration the Quantity & Discount? \n",
    "Answer : Yes"
   ]
  },
  {
   "cell_type": "code",
   "execution_count": 15,
   "id": "8c41128a",
   "metadata": {},
   "outputs": [
    {
     "data": {
      "text/html": [
       "<div>\n",
       "<style scoped>\n",
       "    .dataframe tbody tr th:only-of-type {\n",
       "        vertical-align: middle;\n",
       "    }\n",
       "\n",
       "    .dataframe tbody tr th {\n",
       "        vertical-align: top;\n",
       "    }\n",
       "\n",
       "    .dataframe thead th {\n",
       "        text-align: right;\n",
       "    }\n",
       "</style>\n",
       "<table border=\"1\" class=\"dataframe\">\n",
       "  <thead>\n",
       "    <tr style=\"text-align: right;\">\n",
       "      <th></th>\n",
       "      <th>Order Date</th>\n",
       "      <th>Product ID</th>\n",
       "      <th>Quantity</th>\n",
       "      <th>Sales</th>\n",
       "      <th>Discount</th>\n",
       "      <th>Sales of Single Product</th>\n",
       "      <th>Price of Single Product without Discount</th>\n",
       "    </tr>\n",
       "  </thead>\n",
       "  <tbody>\n",
       "    <tr>\n",
       "      <th>0</th>\n",
       "      <td>2016-11-08</td>\n",
       "      <td>FUR-BO-10001798</td>\n",
       "      <td>2</td>\n",
       "      <td>261.960</td>\n",
       "      <td>0.00</td>\n",
       "      <td>130.980</td>\n",
       "      <td>130.98</td>\n",
       "    </tr>\n",
       "    <tr>\n",
       "      <th>1121</th>\n",
       "      <td>2016-04-09</td>\n",
       "      <td>FUR-BO-10001798</td>\n",
       "      <td>5</td>\n",
       "      <td>556.665</td>\n",
       "      <td>0.15</td>\n",
       "      <td>111.333</td>\n",
       "      <td>130.98</td>\n",
       "    </tr>\n",
       "    <tr>\n",
       "      <th>1837</th>\n",
       "      <td>2017-08-25</td>\n",
       "      <td>FUR-BO-10001798</td>\n",
       "      <td>2</td>\n",
       "      <td>130.980</td>\n",
       "      <td>0.50</td>\n",
       "      <td>65.490</td>\n",
       "      <td>130.98</td>\n",
       "    </tr>\n",
       "    <tr>\n",
       "      <th>1976</th>\n",
       "      <td>2017-05-01</td>\n",
       "      <td>FUR-BO-10001798</td>\n",
       "      <td>3</td>\n",
       "      <td>314.352</td>\n",
       "      <td>0.20</td>\n",
       "      <td>104.784</td>\n",
       "      <td>130.98</td>\n",
       "    </tr>\n",
       "  </tbody>\n",
       "</table>\n",
       "</div>"
      ],
      "text/plain": [
       "     Order Date       Product ID  Quantity    Sales  Discount  \\\n",
       "0    2016-11-08  FUR-BO-10001798         2  261.960      0.00   \n",
       "1121 2016-04-09  FUR-BO-10001798         5  556.665      0.15   \n",
       "1837 2017-08-25  FUR-BO-10001798         2  130.980      0.50   \n",
       "1976 2017-05-01  FUR-BO-10001798         3  314.352      0.20   \n",
       "\n",
       "      Sales of Single Product  Price of Single Product without Discount  \n",
       "0                     130.980                                    130.98  \n",
       "1121                  111.333                                    130.98  \n",
       "1837                   65.490                                    130.98  \n",
       "1976                  104.784                                    130.98  "
      ]
     },
     "execution_count": 15,
     "metadata": {},
     "output_type": "execute_result"
    }
   ],
   "source": [
    "df_ = df[df['Product ID'] == 'FUR-BO-10001798'][['Order Date', 'Product ID', 'Quantity', 'Sales', 'Discount']]\n",
    "df_['Sales of Single Product'] = df_['Sales'] / df_['Quantity']\n",
    "df_['Price of Single Product without Discount'] = df_['Sales of Single Product'] / (1 - df_['Discount'])\n",
    "df_"
   ]
  },
  {
   "cell_type": "markdown",
   "id": "07870230",
   "metadata": {},
   "source": [
    "#### Plotting SALES & NUMBER-OF-TRANSACTIONS for each quarter"
   ]
  },
  {
   "cell_type": "code",
   "execution_count": 16,
   "id": "727301e0",
   "metadata": {},
   "outputs": [],
   "source": [
    "# plotting function\n",
    "def plot_per_quarter(data, x, y, y_label, clrs=colors):\n",
    "    \n",
    "    colors = ['#F0D290','#DE834D','#A3423C','#781D42']\n",
    "    \n",
    "    sns.barplot(data=data, x=x, y=y, palette=clrs);\n",
    "\n",
    "    plt.ylabel(y_label);\n",
    "    plt.xlabel('Quarters of the Years');\n",
    "    plt.xticks(rotation=75)\n",
    "    plt.show()"
   ]
  },
  {
   "cell_type": "code",
   "execution_count": 17,
   "id": "1ee86666",
   "metadata": {},
   "outputs": [],
   "source": [
    "# make a copy\n",
    "df_ = df[['Order Date', 'Sales']].copy()\n",
    "\n",
    "# extracting month, year and quarter into seperate columns\n",
    "df_['Year'] = df_['Order Date'].dt.year\n",
    "df_['Month'] = df_['Order Date'].dt.month\n",
    "df_['Quarter'] = (df_['Month']-1)//3+1\n",
    "\n",
    "# group by year & quarter\n",
    "df_qua = df_.groupby(['Year', 'Quarter'])['Sales'].agg(['sum','count']).sort_values(['Year', 'Quarter']).reset_index()\n",
    "df_qua['Year Quarter'] = df_qua['Year'].astype(str) + ' - ' + df_qua['Quarter'].astype(str)\n",
    "# group by year & month\n",
    "df_mon = df_.groupby(['Year', 'Month'])['Sales'].agg(['sum','count']).sort_values(by=['Year', 'Month']).reset_index()\n",
    "df_mon['Year Month'] = df_mon['Year'].astype(str) + ' - ' + df_mon['Month'].astype(str)"
   ]
  },
  {
   "cell_type": "code",
   "execution_count": 18,
   "id": "093a7285",
   "metadata": {
    "scrolled": false
   },
   "outputs": [
    {
     "data": {
      "image/png": "[encoded data removed]",
      "text/plain": [
       "<Figure size 864x288 with 1 Axes>"
      ]
     },
     "metadata": {},
     "output_type": "display_data"
    },
    {
     "data": {
      "image/png": "[encoded data removed]",
      "text/plain": [
       "<Figure size 864x288 with 1 Axes>"
      ]
     },
     "metadata": {},
     "output_type": "display_data"
    }
   ],
   "source": [
    "# plot\n",
    "plot_per_quarter(data=df_qua, x='Year Quarter', y='count', y_label='Number of Transactions')\n",
    "plot_per_quarter(data=df_qua, x='Year Quarter', y='sum', y_label='Sales')"
   ]
  },
  {
   "cell_type": "code",
   "execution_count": 19,
   "id": "b4a7a9ca",
   "metadata": {},
   "outputs": [
    {
     "data": {
      "image/png": "[encoded data removed]",
      "text/plain": [
       "<Figure size 864x288 with 1 Axes>"
      ]
     },
     "metadata": {},
     "output_type": "display_data"
    },
    {
     "data": {
      "image/png": "[encoded data removed]",
      "text/plain": [
       "<Figure size 864x288 with 1 Axes>"
      ]
     },
     "metadata": {},
     "output_type": "display_data"
    }
   ],
   "source": [
    "# plot\n",
    "plot_per_quarter(data=df_mon, x='Year Month', y='count', y_label='Number of Transactions', clrs=colors2)\n",
    "plot_per_quarter(data=df_mon, x='Year Month', y='sum', y_label='Sales', clrs=colors2)"
   ]
  },
  {
   "cell_type": "code",
   "execution_count": null,
   "id": "ff49bdaa",
   "metadata": {},
   "outputs": [],
   "source": []
  },
  {
   "cell_type": "code",
   "execution_count": 20,
   "id": "e9985a7c",
   "metadata": {},
   "outputs": [],
   "source": [
    "# # \n",
    "# df_ = df[df['Category'] == 'Furniture'].groupby(['Year', 'Quarter'])[['Sales', 'Profit']].agg(\n",
    "#     Sales=('Sales', 'sum'), \n",
    "#     Profit=('Profit','sum'),\n",
    "#     Number_of_Transactions=('Profit', 'count')).sort_values(['Year', 'Quarter']).reset_index()\n",
    "# df_['index'] = df_['Year'].astype(str)  + ' Q' + df_['Quarter'].astype(str)\n",
    "\n",
    "# # \n",
    "# li = df_[['index', 'Sales', 'Profit', 'Number_of_Transactions']].to_numpy()\n",
    "# li_x = []\n",
    "# li_y = []\n",
    "# for row in li:\n",
    "    \n",
    "#     li_x.append('')\n",
    "#     li_x.append(row[0] + ' Sales')\n",
    "#     li_x.append(row[0] + ' Profit')\n",
    "#     li_x.append(row[0] + ' Number_of_Transactions')\n",
    "    \n",
    "#     li_y.append(0)\n",
    "#     li_y.append(row[1])    \n",
    "#     li_y.append(row[2])    \n",
    "#     li_y.append(row[3])  \n",
    "    \n",
    "# df_ = pd.DataFrame({'index':li_x, 'values':li_y})"
   ]
  },
  {
   "cell_type": "code",
   "execution_count": null,
   "id": "3424027a",
   "metadata": {},
   "outputs": [],
   "source": []
  },
  {
   "cell_type": "markdown",
   "id": "69efe2c7",
   "metadata": {},
   "source": [
    "## Data Preprocessing"
   ]
  },
  {
   "cell_type": "markdown",
   "id": "6349ed56",
   "metadata": {},
   "source": [
    "#### Drop unnecessary columns"
   ]
  },
  {
   "cell_type": "code",
   "execution_count": 22,
   "id": "3b5b66b1",
   "metadata": {},
   "outputs": [
    {
     "data": {
      "text/html": [
       "<div>\n",
       "<style scoped>\n",
       "    .dataframe tbody tr th:only-of-type {\n",
       "        vertical-align: middle;\n",
       "    }\n",
       "\n",
       "    .dataframe tbody tr th {\n",
       "        vertical-align: top;\n",
       "    }\n",
       "\n",
       "    .dataframe thead th {\n",
       "        text-align: right;\n",
       "    }\n",
       "</style>\n",
       "<table border=\"1\" class=\"dataframe\">\n",
       "  <thead>\n",
       "    <tr style=\"text-align: right;\">\n",
       "      <th></th>\n",
       "      <th>Order Date</th>\n",
       "      <th>Sales</th>\n",
       "    </tr>\n",
       "  </thead>\n",
       "  <tbody>\n",
       "    <tr>\n",
       "      <th>0</th>\n",
       "      <td>2016-11-08</td>\n",
       "      <td>261.9600</td>\n",
       "    </tr>\n",
       "    <tr>\n",
       "      <th>1</th>\n",
       "      <td>2016-11-08</td>\n",
       "      <td>731.9400</td>\n",
       "    </tr>\n",
       "    <tr>\n",
       "      <th>2</th>\n",
       "      <td>2015-10-11</td>\n",
       "      <td>957.5775</td>\n",
       "    </tr>\n",
       "    <tr>\n",
       "      <th>3</th>\n",
       "      <td>2014-06-09</td>\n",
       "      <td>48.8600</td>\n",
       "    </tr>\n",
       "    <tr>\n",
       "      <th>4</th>\n",
       "      <td>2014-06-09</td>\n",
       "      <td>1706.1840</td>\n",
       "    </tr>\n",
       "    <tr>\n",
       "      <th>...</th>\n",
       "      <td>...</td>\n",
       "      <td>...</td>\n",
       "    </tr>\n",
       "    <tr>\n",
       "      <th>2116</th>\n",
       "      <td>2015-03-19</td>\n",
       "      <td>383.4656</td>\n",
       "    </tr>\n",
       "    <tr>\n",
       "      <th>2117</th>\n",
       "      <td>2016-12-05</td>\n",
       "      <td>13.4000</td>\n",
       "    </tr>\n",
       "    <tr>\n",
       "      <th>2118</th>\n",
       "      <td>2015-09-06</td>\n",
       "      <td>85.9800</td>\n",
       "    </tr>\n",
       "    <tr>\n",
       "      <th>2119</th>\n",
       "      <td>2014-01-21</td>\n",
       "      <td>25.2480</td>\n",
       "    </tr>\n",
       "    <tr>\n",
       "      <th>2120</th>\n",
       "      <td>2017-02-26</td>\n",
       "      <td>91.9600</td>\n",
       "    </tr>\n",
       "  </tbody>\n",
       "</table>\n",
       "<p>2121 rows × 2 columns</p>\n",
       "</div>"
      ],
      "text/plain": [
       "     Order Date      Sales\n",
       "0    2016-11-08   261.9600\n",
       "1    2016-11-08   731.9400\n",
       "2    2015-10-11   957.5775\n",
       "3    2014-06-09    48.8600\n",
       "4    2014-06-09  1706.1840\n",
       "...         ...        ...\n",
       "2116 2015-03-19   383.4656\n",
       "2117 2016-12-05    13.4000\n",
       "2118 2015-09-06    85.9800\n",
       "2119 2014-01-21    25.2480\n",
       "2120 2017-02-26    91.9600\n",
       "\n",
       "[2121 rows x 2 columns]"
      ]
     },
     "execution_count": 22,
     "metadata": {},
     "output_type": "execute_result"
    }
   ],
   "source": [
    "df = df[['Order Date', 'Sales']]\n",
    "df"
   ]
  },
  {
   "cell_type": "code",
   "execution_count": null,
   "id": "dfd84815",
   "metadata": {},
   "outputs": [],
   "source": []
  },
  {
   "cell_type": "code",
   "execution_count": null,
   "id": "0c6a9ba6",
   "metadata": {},
   "outputs": [],
   "source": []
  },
  {
   "cell_type": "markdown",
   "id": "89066b21",
   "metadata": {},
   "source": [
    "## Model Selection"
   ]
  },
  {
   "cell_type": "markdown",
   "id": "cb1b769b",
   "metadata": {},
   "source": [
    "#### Base model"
   ]
  },
  {
   "cell_type": "code",
   "execution_count": null,
   "id": "82d972b6",
   "metadata": {},
   "outputs": [],
   "source": []
  },
  {
   "cell_type": "markdown",
   "id": "254f9e5b",
   "metadata": {},
   "source": [
    "#### Trying different models"
   ]
  },
  {
   "cell_type": "code",
   "execution_count": null,
   "id": "61ef9e2d",
   "metadata": {},
   "outputs": [],
   "source": []
  },
  {
   "cell_type": "markdown",
   "id": "155a6114",
   "metadata": {},
   "source": [
    "## Model Development"
   ]
  },
  {
   "cell_type": "code",
   "execution_count": null,
   "id": "c60c9d28",
   "metadata": {},
   "outputs": [],
   "source": []
  },
  {
   "cell_type": "markdown",
   "id": "fa57d4d0",
   "metadata": {},
   "source": [
    "## Evaluation"
   ]
  },
  {
   "cell_type": "code",
   "execution_count": null,
   "id": "fdada658",
   "metadata": {},
   "outputs": [],
   "source": []
  }
 ],
 "metadata": {
  "kernelspec": {
   "display_name": "Python 3",
   "language": "python",
   "name": "python3"
  },
  "language_info": {
   "codemirror_mode": {
    "name": "ipython",
    "version": 3
   },
   "file_extension": ".py",
   "mimetype": "text/x-python",
   "name": "python",
   "nbconvert_exporter": "python",
   "pygments_lexer": "ipython3",
   "version": "3.8.8"
  }
 },
 "nbformat": 4,
 "nbformat_minor": 5
}
